{
 "cells": [
  {
   "cell_type": "markdown",
   "id": "14bee206",
   "metadata": {},
   "source": [
    "## Setup"
   ]
  },
  {
   "cell_type": "code",
   "execution_count": 21,
   "id": "28a4abc1",
   "metadata": {},
   "outputs": [],
   "source": [
    "#Cleaning and Manipulation\n",
    "import pandas as pd\n",
    "import numpy as np\n",
    "\n",
    "#Visualisation\n",
    "import seaborn as sns\n",
    "import matplotlib.pyplot as plt\n",
    "\n",
    "#Creating Pipelines\n",
    "from imblearn.pipeline import Pipeline as ImPipeline\n",
    "\n",
    "#Preprocessing\n",
    "from sklearn.preprocessing import LabelEncoder, MinMaxScaler, OneHotEncoder\n",
    "from sklearn.compose import ColumnTransformer\n",
    "from imblearn.over_sampling import SMOTE\n",
    "from imblearn.under_sampling import TomekLinks\n",
    "from imblearn.combine import SMOTETomek\n",
    "\n",
    "#Generating and Training Models\n",
    "from sklearn.linear_model import LogisticRegression\n",
    "from sklearn.ensemble import RandomForestClassifier, GradientBoostingClassifier\n",
    "from sklearn.neighbors import KNeighborsClassifier\n",
    "from xgboost import XGBClassifier\n",
    "from lightgbm import LGBMClassifier\n",
    "\n",
    "#Model Evaluation and Hyperparameter Tuning\n",
    "from sklearn.metrics import balanced_accuracy_score, f1_score, classification_report, precision_score, recall_score, roc_auc_score\n",
    "from sklearn.model_selection import train_test_split\n",
    "import optuna\n",
    "\n",
    "#SHAP Values (Feature Importance)\n",
    "import shap\n",
    "\n",
    "#Suppress warnings\n",
    "import warnings\n",
    "warnings.filterwarnings(\"ignore\")\n",
    "\n",
    "#Loading the dataset\n",
    "df = pd.read_csv(\"WA_Fn-UseC_-Telco-Customer-Churn.csv\")"
   ]
  },
  {
   "cell_type": "markdown",
   "id": "c0ade51e",
   "metadata": {},
   "source": [
    "## Data Exploration"
   ]
  },
  {
   "cell_type": "markdown",
   "id": "c8be804f",
   "metadata": {},
   "source": [
    "Firstly, we load the customer churn data. We have 7043 entries with 21 different variables, including customer information (ID, gender, dependents, etc.) as well as information about their subscription (whether they have TV streaming, online security, etc.) and billing (contract type, total and monthly charges, etc.). We also, most importantly, have a variable that tells us whether the customer has churned or not."
   ]
  },
  {
   "cell_type": "code",
   "execution_count": 22,
   "id": "4138b116",
   "metadata": {},
   "outputs": [
    {
     "name": "stdout",
     "output_type": "stream",
     "text": [
      "<class 'pandas.core.frame.DataFrame'>\n",
      "RangeIndex: 7043 entries, 0 to 7042\n",
      "Data columns (total 21 columns):\n",
      " #   Column            Non-Null Count  Dtype  \n",
      "---  ------            --------------  -----  \n",
      " 0   customerID        7043 non-null   object \n",
      " 1   gender            7043 non-null   object \n",
      " 2   SeniorCitizen     7043 non-null   int64  \n",
      " 3   Partner           7043 non-null   object \n",
      " 4   Dependents        7043 non-null   object \n",
      " 5   tenure            7043 non-null   int64  \n",
      " 6   PhoneService      7043 non-null   object \n",
      " 7   MultipleLines     7043 non-null   object \n",
      " 8   InternetService   7043 non-null   object \n",
      " 9   OnlineSecurity    7043 non-null   object \n",
      " 10  OnlineBackup      7043 non-null   object \n",
      " 11  DeviceProtection  7043 non-null   object \n",
      " 12  TechSupport       7043 non-null   object \n",
      " 13  StreamingTV       7043 non-null   object \n",
      " 14  StreamingMovies   7043 non-null   object \n",
      " 15  Contract          7043 non-null   object \n",
      " 16  PaperlessBilling  7043 non-null   object \n",
      " 17  PaymentMethod     7043 non-null   object \n",
      " 18  MonthlyCharges    7043 non-null   float64\n",
      " 19  TotalCharges      7043 non-null   object \n",
      " 20  Churn             7043 non-null   object \n",
      "dtypes: float64(1), int64(2), object(18)\n",
      "memory usage: 1.1+ MB\n",
      "None\n"
     ]
    },
    {
     "data": {
      "application/vnd.microsoft.datawrangler.viewer.v0+json": {
       "columns": [
        {
         "name": "index",
         "rawType": "int64",
         "type": "integer"
        },
        {
         "name": "customerID",
         "rawType": "object",
         "type": "string"
        },
        {
         "name": "gender",
         "rawType": "object",
         "type": "string"
        },
        {
         "name": "SeniorCitizen",
         "rawType": "int64",
         "type": "integer"
        },
        {
         "name": "Partner",
         "rawType": "object",
         "type": "string"
        },
        {
         "name": "Dependents",
         "rawType": "object",
         "type": "string"
        },
        {
         "name": "tenure",
         "rawType": "int64",
         "type": "integer"
        },
        {
         "name": "PhoneService",
         "rawType": "object",
         "type": "string"
        },
        {
         "name": "MultipleLines",
         "rawType": "object",
         "type": "string"
        },
        {
         "name": "InternetService",
         "rawType": "object",
         "type": "string"
        },
        {
         "name": "OnlineSecurity",
         "rawType": "object",
         "type": "string"
        },
        {
         "name": "OnlineBackup",
         "rawType": "object",
         "type": "string"
        },
        {
         "name": "DeviceProtection",
         "rawType": "object",
         "type": "string"
        },
        {
         "name": "TechSupport",
         "rawType": "object",
         "type": "string"
        },
        {
         "name": "StreamingTV",
         "rawType": "object",
         "type": "string"
        },
        {
         "name": "StreamingMovies",
         "rawType": "object",
         "type": "string"
        },
        {
         "name": "Contract",
         "rawType": "object",
         "type": "string"
        },
        {
         "name": "PaperlessBilling",
         "rawType": "object",
         "type": "string"
        },
        {
         "name": "PaymentMethod",
         "rawType": "object",
         "type": "string"
        },
        {
         "name": "MonthlyCharges",
         "rawType": "float64",
         "type": "float"
        },
        {
         "name": "TotalCharges",
         "rawType": "object",
         "type": "string"
        },
        {
         "name": "Churn",
         "rawType": "object",
         "type": "string"
        }
       ],
       "ref": "bd643562-d25e-42cf-b724-74a23ea090e0",
       "rows": [
        [
         "0",
         "7590-VHVEG",
         "Female",
         "0",
         "Yes",
         "No",
         "1",
         "No",
         "No phone service",
         "DSL",
         "No",
         "Yes",
         "No",
         "No",
         "No",
         "No",
         "Month-to-month",
         "Yes",
         "Electronic check",
         "29.85",
         "29.85",
         "No"
        ],
        [
         "1",
         "5575-GNVDE",
         "Male",
         "0",
         "No",
         "No",
         "34",
         "Yes",
         "No",
         "DSL",
         "Yes",
         "No",
         "Yes",
         "No",
         "No",
         "No",
         "One year",
         "No",
         "Mailed check",
         "56.95",
         "1889.5",
         "No"
        ],
        [
         "2",
         "3668-QPYBK",
         "Male",
         "0",
         "No",
         "No",
         "2",
         "Yes",
         "No",
         "DSL",
         "Yes",
         "Yes",
         "No",
         "No",
         "No",
         "No",
         "Month-to-month",
         "Yes",
         "Mailed check",
         "53.85",
         "108.15",
         "Yes"
        ],
        [
         "3",
         "7795-CFOCW",
         "Male",
         "0",
         "No",
         "No",
         "45",
         "No",
         "No phone service",
         "DSL",
         "Yes",
         "No",
         "Yes",
         "Yes",
         "No",
         "No",
         "One year",
         "No",
         "Bank transfer (automatic)",
         "42.3",
         "1840.75",
         "No"
        ],
        [
         "4",
         "9237-HQITU",
         "Female",
         "0",
         "No",
         "No",
         "2",
         "Yes",
         "No",
         "Fiber optic",
         "No",
         "No",
         "No",
         "No",
         "No",
         "No",
         "Month-to-month",
         "Yes",
         "Electronic check",
         "70.7",
         "151.65",
         "Yes"
        ]
       ],
       "shape": {
        "columns": 21,
        "rows": 5
       }
      },
      "text/html": [
       "<div>\n",
       "<style scoped>\n",
       "    .dataframe tbody tr th:only-of-type {\n",
       "        vertical-align: middle;\n",
       "    }\n",
       "\n",
       "    .dataframe tbody tr th {\n",
       "        vertical-align: top;\n",
       "    }\n",
       "\n",
       "    .dataframe thead th {\n",
       "        text-align: right;\n",
       "    }\n",
       "</style>\n",
       "<table border=\"1\" class=\"dataframe\">\n",
       "  <thead>\n",
       "    <tr style=\"text-align: right;\">\n",
       "      <th></th>\n",
       "      <th>customerID</th>\n",
       "      <th>gender</th>\n",
       "      <th>SeniorCitizen</th>\n",
       "      <th>Partner</th>\n",
       "      <th>Dependents</th>\n",
       "      <th>tenure</th>\n",
       "      <th>PhoneService</th>\n",
       "      <th>MultipleLines</th>\n",
       "      <th>InternetService</th>\n",
       "      <th>OnlineSecurity</th>\n",
       "      <th>...</th>\n",
       "      <th>DeviceProtection</th>\n",
       "      <th>TechSupport</th>\n",
       "      <th>StreamingTV</th>\n",
       "      <th>StreamingMovies</th>\n",
       "      <th>Contract</th>\n",
       "      <th>PaperlessBilling</th>\n",
       "      <th>PaymentMethod</th>\n",
       "      <th>MonthlyCharges</th>\n",
       "      <th>TotalCharges</th>\n",
       "      <th>Churn</th>\n",
       "    </tr>\n",
       "  </thead>\n",
       "  <tbody>\n",
       "    <tr>\n",
       "      <th>0</th>\n",
       "      <td>7590-VHVEG</td>\n",
       "      <td>Female</td>\n",
       "      <td>0</td>\n",
       "      <td>Yes</td>\n",
       "      <td>No</td>\n",
       "      <td>1</td>\n",
       "      <td>No</td>\n",
       "      <td>No phone service</td>\n",
       "      <td>DSL</td>\n",
       "      <td>No</td>\n",
       "      <td>...</td>\n",
       "      <td>No</td>\n",
       "      <td>No</td>\n",
       "      <td>No</td>\n",
       "      <td>No</td>\n",
       "      <td>Month-to-month</td>\n",
       "      <td>Yes</td>\n",
       "      <td>Electronic check</td>\n",
       "      <td>29.85</td>\n",
       "      <td>29.85</td>\n",
       "      <td>No</td>\n",
       "    </tr>\n",
       "    <tr>\n",
       "      <th>1</th>\n",
       "      <td>5575-GNVDE</td>\n",
       "      <td>Male</td>\n",
       "      <td>0</td>\n",
       "      <td>No</td>\n",
       "      <td>No</td>\n",
       "      <td>34</td>\n",
       "      <td>Yes</td>\n",
       "      <td>No</td>\n",
       "      <td>DSL</td>\n",
       "      <td>Yes</td>\n",
       "      <td>...</td>\n",
       "      <td>Yes</td>\n",
       "      <td>No</td>\n",
       "      <td>No</td>\n",
       "      <td>No</td>\n",
       "      <td>One year</td>\n",
       "      <td>No</td>\n",
       "      <td>Mailed check</td>\n",
       "      <td>56.95</td>\n",
       "      <td>1889.5</td>\n",
       "      <td>No</td>\n",
       "    </tr>\n",
       "    <tr>\n",
       "      <th>2</th>\n",
       "      <td>3668-QPYBK</td>\n",
       "      <td>Male</td>\n",
       "      <td>0</td>\n",
       "      <td>No</td>\n",
       "      <td>No</td>\n",
       "      <td>2</td>\n",
       "      <td>Yes</td>\n",
       "      <td>No</td>\n",
       "      <td>DSL</td>\n",
       "      <td>Yes</td>\n",
       "      <td>...</td>\n",
       "      <td>No</td>\n",
       "      <td>No</td>\n",
       "      <td>No</td>\n",
       "      <td>No</td>\n",
       "      <td>Month-to-month</td>\n",
       "      <td>Yes</td>\n",
       "      <td>Mailed check</td>\n",
       "      <td>53.85</td>\n",
       "      <td>108.15</td>\n",
       "      <td>Yes</td>\n",
       "    </tr>\n",
       "    <tr>\n",
       "      <th>3</th>\n",
       "      <td>7795-CFOCW</td>\n",
       "      <td>Male</td>\n",
       "      <td>0</td>\n",
       "      <td>No</td>\n",
       "      <td>No</td>\n",
       "      <td>45</td>\n",
       "      <td>No</td>\n",
       "      <td>No phone service</td>\n",
       "      <td>DSL</td>\n",
       "      <td>Yes</td>\n",
       "      <td>...</td>\n",
       "      <td>Yes</td>\n",
       "      <td>Yes</td>\n",
       "      <td>No</td>\n",
       "      <td>No</td>\n",
       "      <td>One year</td>\n",
       "      <td>No</td>\n",
       "      <td>Bank transfer (automatic)</td>\n",
       "      <td>42.30</td>\n",
       "      <td>1840.75</td>\n",
       "      <td>No</td>\n",
       "    </tr>\n",
       "    <tr>\n",
       "      <th>4</th>\n",
       "      <td>9237-HQITU</td>\n",
       "      <td>Female</td>\n",
       "      <td>0</td>\n",
       "      <td>No</td>\n",
       "      <td>No</td>\n",
       "      <td>2</td>\n",
       "      <td>Yes</td>\n",
       "      <td>No</td>\n",
       "      <td>Fiber optic</td>\n",
       "      <td>No</td>\n",
       "      <td>...</td>\n",
       "      <td>No</td>\n",
       "      <td>No</td>\n",
       "      <td>No</td>\n",
       "      <td>No</td>\n",
       "      <td>Month-to-month</td>\n",
       "      <td>Yes</td>\n",
       "      <td>Electronic check</td>\n",
       "      <td>70.70</td>\n",
       "      <td>151.65</td>\n",
       "      <td>Yes</td>\n",
       "    </tr>\n",
       "  </tbody>\n",
       "</table>\n",
       "<p>5 rows × 21 columns</p>\n",
       "</div>"
      ],
      "text/plain": [
       "   customerID  gender  SeniorCitizen Partner Dependents  tenure PhoneService  \\\n",
       "0  7590-VHVEG  Female              0     Yes         No       1           No   \n",
       "1  5575-GNVDE    Male              0      No         No      34          Yes   \n",
       "2  3668-QPYBK    Male              0      No         No       2          Yes   \n",
       "3  7795-CFOCW    Male              0      No         No      45           No   \n",
       "4  9237-HQITU  Female              0      No         No       2          Yes   \n",
       "\n",
       "      MultipleLines InternetService OnlineSecurity  ... DeviceProtection  \\\n",
       "0  No phone service             DSL             No  ...               No   \n",
       "1                No             DSL            Yes  ...              Yes   \n",
       "2                No             DSL            Yes  ...               No   \n",
       "3  No phone service             DSL            Yes  ...              Yes   \n",
       "4                No     Fiber optic             No  ...               No   \n",
       "\n",
       "  TechSupport StreamingTV StreamingMovies        Contract PaperlessBilling  \\\n",
       "0          No          No              No  Month-to-month              Yes   \n",
       "1          No          No              No        One year               No   \n",
       "2          No          No              No  Month-to-month              Yes   \n",
       "3         Yes          No              No        One year               No   \n",
       "4          No          No              No  Month-to-month              Yes   \n",
       "\n",
       "               PaymentMethod MonthlyCharges  TotalCharges Churn  \n",
       "0           Electronic check          29.85         29.85    No  \n",
       "1               Mailed check          56.95        1889.5    No  \n",
       "2               Mailed check          53.85        108.15   Yes  \n",
       "3  Bank transfer (automatic)          42.30       1840.75    No  \n",
       "4           Electronic check          70.70        151.65   Yes  \n",
       "\n",
       "[5 rows x 21 columns]"
      ]
     },
     "execution_count": 22,
     "metadata": {},
     "output_type": "execute_result"
    }
   ],
   "source": [
    "print(df.info())\n",
    "df.head()"
   ]
  },
  {
   "cell_type": "markdown",
   "id": "15063d7b",
   "metadata": {},
   "source": [
    "The first thing to tackle is any missing values in the data."
   ]
  },
  {
   "cell_type": "code",
   "execution_count": 23,
   "id": "5d820e25",
   "metadata": {},
   "outputs": [
    {
     "data": {
      "application/vnd.microsoft.datawrangler.viewer.v0+json": {
       "columns": [
        {
         "name": "index",
         "rawType": "object",
         "type": "string"
        },
        {
         "name": "0",
         "rawType": "int64",
         "type": "integer"
        }
       ],
       "ref": "ddaa541e-e393-4748-9f36-18c581e0f4b1",
       "rows": [
        [
         "customerID",
         "0"
        ],
        [
         "gender",
         "0"
        ],
        [
         "SeniorCitizen",
         "0"
        ],
        [
         "Partner",
         "0"
        ],
        [
         "Dependents",
         "0"
        ],
        [
         "tenure",
         "0"
        ],
        [
         "PhoneService",
         "0"
        ],
        [
         "MultipleLines",
         "0"
        ],
        [
         "InternetService",
         "0"
        ],
        [
         "OnlineSecurity",
         "0"
        ],
        [
         "OnlineBackup",
         "0"
        ],
        [
         "DeviceProtection",
         "0"
        ],
        [
         "TechSupport",
         "0"
        ],
        [
         "StreamingTV",
         "0"
        ],
        [
         "StreamingMovies",
         "0"
        ],
        [
         "Contract",
         "0"
        ],
        [
         "PaperlessBilling",
         "0"
        ],
        [
         "PaymentMethod",
         "0"
        ],
        [
         "MonthlyCharges",
         "0"
        ],
        [
         "TotalCharges",
         "0"
        ],
        [
         "Churn",
         "0"
        ]
       ],
       "shape": {
        "columns": 1,
        "rows": 21
       }
      },
      "text/plain": [
       "customerID          0\n",
       "gender              0\n",
       "SeniorCitizen       0\n",
       "Partner             0\n",
       "Dependents          0\n",
       "tenure              0\n",
       "PhoneService        0\n",
       "MultipleLines       0\n",
       "InternetService     0\n",
       "OnlineSecurity      0\n",
       "OnlineBackup        0\n",
       "DeviceProtection    0\n",
       "TechSupport         0\n",
       "StreamingTV         0\n",
       "StreamingMovies     0\n",
       "Contract            0\n",
       "PaperlessBilling    0\n",
       "PaymentMethod       0\n",
       "MonthlyCharges      0\n",
       "TotalCharges        0\n",
       "Churn               0\n",
       "dtype: int64"
      ]
     },
     "execution_count": 23,
     "metadata": {},
     "output_type": "execute_result"
    }
   ],
   "source": [
    "df.isna().sum()"
   ]
  },
  {
   "cell_type": "markdown",
   "id": "8adac24b",
   "metadata": {},
   "source": [
    "An initial look suggests that there are no values to be concerned about. Now, we can handle some data type changes. Namely, we want to map the SeniorCitizen variable to Yes and No instead of 0 and 1 (at least for now), to make exploratory data analysis visualisations more intuitive. We also note that the TotalCharges variable is currently an object, and thus non-numeric. We change this as well."
   ]
  },
  {
   "cell_type": "code",
   "execution_count": 24,
   "id": "55476ad1",
   "metadata": {},
   "outputs": [
    {
     "data": {
      "application/vnd.microsoft.datawrangler.viewer.v0+json": {
       "columns": [
        {
         "name": "index",
         "rawType": "object",
         "type": "string"
        },
        {
         "name": "0",
         "rawType": "int64",
         "type": "integer"
        }
       ],
       "ref": "5095b354-105a-49b4-a089-90f47b74fd9a",
       "rows": [
        [
         "customerID",
         "0"
        ],
        [
         "gender",
         "0"
        ],
        [
         "SeniorCitizen",
         "0"
        ],
        [
         "Partner",
         "0"
        ],
        [
         "Dependents",
         "0"
        ],
        [
         "tenure",
         "0"
        ],
        [
         "PhoneService",
         "0"
        ],
        [
         "MultipleLines",
         "0"
        ],
        [
         "InternetService",
         "0"
        ],
        [
         "OnlineSecurity",
         "0"
        ],
        [
         "OnlineBackup",
         "0"
        ],
        [
         "DeviceProtection",
         "0"
        ],
        [
         "TechSupport",
         "0"
        ],
        [
         "StreamingTV",
         "0"
        ],
        [
         "StreamingMovies",
         "0"
        ],
        [
         "Contract",
         "0"
        ],
        [
         "PaperlessBilling",
         "0"
        ],
        [
         "PaymentMethod",
         "0"
        ],
        [
         "MonthlyCharges",
         "0"
        ],
        [
         "TotalCharges",
         "11"
        ],
        [
         "Churn",
         "0"
        ]
       ],
       "shape": {
        "columns": 1,
        "rows": 21
       }
      },
      "text/plain": [
       "customerID           0\n",
       "gender               0\n",
       "SeniorCitizen        0\n",
       "Partner              0\n",
       "Dependents           0\n",
       "tenure               0\n",
       "PhoneService         0\n",
       "MultipleLines        0\n",
       "InternetService      0\n",
       "OnlineSecurity       0\n",
       "OnlineBackup         0\n",
       "DeviceProtection     0\n",
       "TechSupport          0\n",
       "StreamingTV          0\n",
       "StreamingMovies      0\n",
       "Contract             0\n",
       "PaperlessBilling     0\n",
       "PaymentMethod        0\n",
       "MonthlyCharges       0\n",
       "TotalCharges        11\n",
       "Churn                0\n",
       "dtype: int64"
      ]
     },
     "execution_count": 24,
     "metadata": {},
     "output_type": "execute_result"
    }
   ],
   "source": [
    "df[\"SeniorCitizen\"] = df[\"SeniorCitizen\"].map({1: \"Yes\", 0: \"No\"})\n",
    "df[\"TotalCharges\"] = pd.to_numeric(df[\"TotalCharges\"], errors = \"coerce\")\n",
    "df.isna().sum()"
   ]
  },
  {
   "cell_type": "markdown",
   "id": "bec177f6",
   "metadata": {},
   "source": [
    "Now, when we check again for missing values, we see that 11 observations now don't have any information as to whether the customer is a senior citizen or not."
   ]
  },
  {
   "cell_type": "code",
   "execution_count": 25,
   "id": "1f42201c",
   "metadata": {},
   "outputs": [
    {
     "data": {
      "application/vnd.microsoft.datawrangler.viewer.v0+json": {
       "columns": [
        {
         "name": "index",
         "rawType": "int64",
         "type": "integer"
        },
        {
         "name": "customerID",
         "rawType": "object",
         "type": "string"
        },
        {
         "name": "gender",
         "rawType": "object",
         "type": "string"
        },
        {
         "name": "SeniorCitizen",
         "rawType": "object",
         "type": "string"
        },
        {
         "name": "Partner",
         "rawType": "object",
         "type": "string"
        },
        {
         "name": "Dependents",
         "rawType": "object",
         "type": "string"
        },
        {
         "name": "tenure",
         "rawType": "int64",
         "type": "integer"
        },
        {
         "name": "PhoneService",
         "rawType": "object",
         "type": "string"
        },
        {
         "name": "MultipleLines",
         "rawType": "object",
         "type": "string"
        },
        {
         "name": "InternetService",
         "rawType": "object",
         "type": "string"
        },
        {
         "name": "OnlineSecurity",
         "rawType": "object",
         "type": "string"
        },
        {
         "name": "OnlineBackup",
         "rawType": "object",
         "type": "string"
        },
        {
         "name": "DeviceProtection",
         "rawType": "object",
         "type": "string"
        },
        {
         "name": "TechSupport",
         "rawType": "object",
         "type": "string"
        },
        {
         "name": "StreamingTV",
         "rawType": "object",
         "type": "string"
        },
        {
         "name": "StreamingMovies",
         "rawType": "object",
         "type": "string"
        },
        {
         "name": "Contract",
         "rawType": "object",
         "type": "string"
        },
        {
         "name": "PaperlessBilling",
         "rawType": "object",
         "type": "string"
        },
        {
         "name": "PaymentMethod",
         "rawType": "object",
         "type": "string"
        },
        {
         "name": "MonthlyCharges",
         "rawType": "float64",
         "type": "float"
        },
        {
         "name": "TotalCharges",
         "rawType": "float64",
         "type": "float"
        },
        {
         "name": "Churn",
         "rawType": "object",
         "type": "string"
        }
       ],
       "ref": "de701edf-7794-44d0-b2f6-4dfbc6fde2f1",
       "rows": [
        [
         "488",
         "4472-LVYGI",
         "Female",
         "No",
         "Yes",
         "Yes",
         "0",
         "No",
         "No phone service",
         "DSL",
         "Yes",
         "No",
         "Yes",
         "Yes",
         "Yes",
         "No",
         "Two year",
         "Yes",
         "Bank transfer (automatic)",
         "52.55",
         null,
         "No"
        ],
        [
         "753",
         "3115-CZMZD",
         "Male",
         "No",
         "No",
         "Yes",
         "0",
         "Yes",
         "No",
         "No",
         "No internet service",
         "No internet service",
         "No internet service",
         "No internet service",
         "No internet service",
         "No internet service",
         "Two year",
         "No",
         "Mailed check",
         "20.25",
         null,
         "No"
        ],
        [
         "936",
         "5709-LVOEQ",
         "Female",
         "No",
         "Yes",
         "Yes",
         "0",
         "Yes",
         "No",
         "DSL",
         "Yes",
         "Yes",
         "Yes",
         "No",
         "Yes",
         "Yes",
         "Two year",
         "No",
         "Mailed check",
         "80.85",
         null,
         "No"
        ],
        [
         "1082",
         "4367-NUYAO",
         "Male",
         "No",
         "Yes",
         "Yes",
         "0",
         "Yes",
         "Yes",
         "No",
         "No internet service",
         "No internet service",
         "No internet service",
         "No internet service",
         "No internet service",
         "No internet service",
         "Two year",
         "No",
         "Mailed check",
         "25.75",
         null,
         "No"
        ],
        [
         "1340",
         "1371-DWPAZ",
         "Female",
         "No",
         "Yes",
         "Yes",
         "0",
         "No",
         "No phone service",
         "DSL",
         "Yes",
         "Yes",
         "Yes",
         "Yes",
         "Yes",
         "No",
         "Two year",
         "No",
         "Credit card (automatic)",
         "56.05",
         null,
         "No"
        ],
        [
         "3331",
         "7644-OMVMY",
         "Male",
         "No",
         "Yes",
         "Yes",
         "0",
         "Yes",
         "No",
         "No",
         "No internet service",
         "No internet service",
         "No internet service",
         "No internet service",
         "No internet service",
         "No internet service",
         "Two year",
         "No",
         "Mailed check",
         "19.85",
         null,
         "No"
        ],
        [
         "3826",
         "3213-VVOLG",
         "Male",
         "No",
         "Yes",
         "Yes",
         "0",
         "Yes",
         "Yes",
         "No",
         "No internet service",
         "No internet service",
         "No internet service",
         "No internet service",
         "No internet service",
         "No internet service",
         "Two year",
         "No",
         "Mailed check",
         "25.35",
         null,
         "No"
        ],
        [
         "4380",
         "2520-SGTTA",
         "Female",
         "No",
         "Yes",
         "Yes",
         "0",
         "Yes",
         "No",
         "No",
         "No internet service",
         "No internet service",
         "No internet service",
         "No internet service",
         "No internet service",
         "No internet service",
         "Two year",
         "No",
         "Mailed check",
         "20.0",
         null,
         "No"
        ],
        [
         "5218",
         "2923-ARZLG",
         "Male",
         "No",
         "Yes",
         "Yes",
         "0",
         "Yes",
         "No",
         "No",
         "No internet service",
         "No internet service",
         "No internet service",
         "No internet service",
         "No internet service",
         "No internet service",
         "One year",
         "Yes",
         "Mailed check",
         "19.7",
         null,
         "No"
        ],
        [
         "6670",
         "4075-WKNIU",
         "Female",
         "No",
         "Yes",
         "Yes",
         "0",
         "Yes",
         "Yes",
         "DSL",
         "No",
         "Yes",
         "Yes",
         "Yes",
         "Yes",
         "No",
         "Two year",
         "No",
         "Mailed check",
         "73.35",
         null,
         "No"
        ],
        [
         "6754",
         "2775-SEFEE",
         "Male",
         "No",
         "No",
         "Yes",
         "0",
         "Yes",
         "Yes",
         "DSL",
         "Yes",
         "Yes",
         "No",
         "Yes",
         "No",
         "No",
         "Two year",
         "Yes",
         "Bank transfer (automatic)",
         "61.9",
         null,
         "No"
        ]
       ],
       "shape": {
        "columns": 21,
        "rows": 11
       }
      },
      "text/html": [
       "<div>\n",
       "<style scoped>\n",
       "    .dataframe tbody tr th:only-of-type {\n",
       "        vertical-align: middle;\n",
       "    }\n",
       "\n",
       "    .dataframe tbody tr th {\n",
       "        vertical-align: top;\n",
       "    }\n",
       "\n",
       "    .dataframe thead th {\n",
       "        text-align: right;\n",
       "    }\n",
       "</style>\n",
       "<table border=\"1\" class=\"dataframe\">\n",
       "  <thead>\n",
       "    <tr style=\"text-align: right;\">\n",
       "      <th></th>\n",
       "      <th>customerID</th>\n",
       "      <th>gender</th>\n",
       "      <th>SeniorCitizen</th>\n",
       "      <th>Partner</th>\n",
       "      <th>Dependents</th>\n",
       "      <th>tenure</th>\n",
       "      <th>PhoneService</th>\n",
       "      <th>MultipleLines</th>\n",
       "      <th>InternetService</th>\n",
       "      <th>OnlineSecurity</th>\n",
       "      <th>...</th>\n",
       "      <th>DeviceProtection</th>\n",
       "      <th>TechSupport</th>\n",
       "      <th>StreamingTV</th>\n",
       "      <th>StreamingMovies</th>\n",
       "      <th>Contract</th>\n",
       "      <th>PaperlessBilling</th>\n",
       "      <th>PaymentMethod</th>\n",
       "      <th>MonthlyCharges</th>\n",
       "      <th>TotalCharges</th>\n",
       "      <th>Churn</th>\n",
       "    </tr>\n",
       "  </thead>\n",
       "  <tbody>\n",
       "    <tr>\n",
       "      <th>488</th>\n",
       "      <td>4472-LVYGI</td>\n",
       "      <td>Female</td>\n",
       "      <td>No</td>\n",
       "      <td>Yes</td>\n",
       "      <td>Yes</td>\n",
       "      <td>0</td>\n",
       "      <td>No</td>\n",
       "      <td>No phone service</td>\n",
       "      <td>DSL</td>\n",
       "      <td>Yes</td>\n",
       "      <td>...</td>\n",
       "      <td>Yes</td>\n",
       "      <td>Yes</td>\n",
       "      <td>Yes</td>\n",
       "      <td>No</td>\n",
       "      <td>Two year</td>\n",
       "      <td>Yes</td>\n",
       "      <td>Bank transfer (automatic)</td>\n",
       "      <td>52.55</td>\n",
       "      <td>NaN</td>\n",
       "      <td>No</td>\n",
       "    </tr>\n",
       "    <tr>\n",
       "      <th>753</th>\n",
       "      <td>3115-CZMZD</td>\n",
       "      <td>Male</td>\n",
       "      <td>No</td>\n",
       "      <td>No</td>\n",
       "      <td>Yes</td>\n",
       "      <td>0</td>\n",
       "      <td>Yes</td>\n",
       "      <td>No</td>\n",
       "      <td>No</td>\n",
       "      <td>No internet service</td>\n",
       "      <td>...</td>\n",
       "      <td>No internet service</td>\n",
       "      <td>No internet service</td>\n",
       "      <td>No internet service</td>\n",
       "      <td>No internet service</td>\n",
       "      <td>Two year</td>\n",
       "      <td>No</td>\n",
       "      <td>Mailed check</td>\n",
       "      <td>20.25</td>\n",
       "      <td>NaN</td>\n",
       "      <td>No</td>\n",
       "    </tr>\n",
       "    <tr>\n",
       "      <th>936</th>\n",
       "      <td>5709-LVOEQ</td>\n",
       "      <td>Female</td>\n",
       "      <td>No</td>\n",
       "      <td>Yes</td>\n",
       "      <td>Yes</td>\n",
       "      <td>0</td>\n",
       "      <td>Yes</td>\n",
       "      <td>No</td>\n",
       "      <td>DSL</td>\n",
       "      <td>Yes</td>\n",
       "      <td>...</td>\n",
       "      <td>Yes</td>\n",
       "      <td>No</td>\n",
       "      <td>Yes</td>\n",
       "      <td>Yes</td>\n",
       "      <td>Two year</td>\n",
       "      <td>No</td>\n",
       "      <td>Mailed check</td>\n",
       "      <td>80.85</td>\n",
       "      <td>NaN</td>\n",
       "      <td>No</td>\n",
       "    </tr>\n",
       "    <tr>\n",
       "      <th>1082</th>\n",
       "      <td>4367-NUYAO</td>\n",
       "      <td>Male</td>\n",
       "      <td>No</td>\n",
       "      <td>Yes</td>\n",
       "      <td>Yes</td>\n",
       "      <td>0</td>\n",
       "      <td>Yes</td>\n",
       "      <td>Yes</td>\n",
       "      <td>No</td>\n",
       "      <td>No internet service</td>\n",
       "      <td>...</td>\n",
       "      <td>No internet service</td>\n",
       "      <td>No internet service</td>\n",
       "      <td>No internet service</td>\n",
       "      <td>No internet service</td>\n",
       "      <td>Two year</td>\n",
       "      <td>No</td>\n",
       "      <td>Mailed check</td>\n",
       "      <td>25.75</td>\n",
       "      <td>NaN</td>\n",
       "      <td>No</td>\n",
       "    </tr>\n",
       "    <tr>\n",
       "      <th>1340</th>\n",
       "      <td>1371-DWPAZ</td>\n",
       "      <td>Female</td>\n",
       "      <td>No</td>\n",
       "      <td>Yes</td>\n",
       "      <td>Yes</td>\n",
       "      <td>0</td>\n",
       "      <td>No</td>\n",
       "      <td>No phone service</td>\n",
       "      <td>DSL</td>\n",
       "      <td>Yes</td>\n",
       "      <td>...</td>\n",
       "      <td>Yes</td>\n",
       "      <td>Yes</td>\n",
       "      <td>Yes</td>\n",
       "      <td>No</td>\n",
       "      <td>Two year</td>\n",
       "      <td>No</td>\n",
       "      <td>Credit card (automatic)</td>\n",
       "      <td>56.05</td>\n",
       "      <td>NaN</td>\n",
       "      <td>No</td>\n",
       "    </tr>\n",
       "    <tr>\n",
       "      <th>3331</th>\n",
       "      <td>7644-OMVMY</td>\n",
       "      <td>Male</td>\n",
       "      <td>No</td>\n",
       "      <td>Yes</td>\n",
       "      <td>Yes</td>\n",
       "      <td>0</td>\n",
       "      <td>Yes</td>\n",
       "      <td>No</td>\n",
       "      <td>No</td>\n",
       "      <td>No internet service</td>\n",
       "      <td>...</td>\n",
       "      <td>No internet service</td>\n",
       "      <td>No internet service</td>\n",
       "      <td>No internet service</td>\n",
       "      <td>No internet service</td>\n",
       "      <td>Two year</td>\n",
       "      <td>No</td>\n",
       "      <td>Mailed check</td>\n",
       "      <td>19.85</td>\n",
       "      <td>NaN</td>\n",
       "      <td>No</td>\n",
       "    </tr>\n",
       "    <tr>\n",
       "      <th>3826</th>\n",
       "      <td>3213-VVOLG</td>\n",
       "      <td>Male</td>\n",
       "      <td>No</td>\n",
       "      <td>Yes</td>\n",
       "      <td>Yes</td>\n",
       "      <td>0</td>\n",
       "      <td>Yes</td>\n",
       "      <td>Yes</td>\n",
       "      <td>No</td>\n",
       "      <td>No internet service</td>\n",
       "      <td>...</td>\n",
       "      <td>No internet service</td>\n",
       "      <td>No internet service</td>\n",
       "      <td>No internet service</td>\n",
       "      <td>No internet service</td>\n",
       "      <td>Two year</td>\n",
       "      <td>No</td>\n",
       "      <td>Mailed check</td>\n",
       "      <td>25.35</td>\n",
       "      <td>NaN</td>\n",
       "      <td>No</td>\n",
       "    </tr>\n",
       "    <tr>\n",
       "      <th>4380</th>\n",
       "      <td>2520-SGTTA</td>\n",
       "      <td>Female</td>\n",
       "      <td>No</td>\n",
       "      <td>Yes</td>\n",
       "      <td>Yes</td>\n",
       "      <td>0</td>\n",
       "      <td>Yes</td>\n",
       "      <td>No</td>\n",
       "      <td>No</td>\n",
       "      <td>No internet service</td>\n",
       "      <td>...</td>\n",
       "      <td>No internet service</td>\n",
       "      <td>No internet service</td>\n",
       "      <td>No internet service</td>\n",
       "      <td>No internet service</td>\n",
       "      <td>Two year</td>\n",
       "      <td>No</td>\n",
       "      <td>Mailed check</td>\n",
       "      <td>20.00</td>\n",
       "      <td>NaN</td>\n",
       "      <td>No</td>\n",
       "    </tr>\n",
       "    <tr>\n",
       "      <th>5218</th>\n",
       "      <td>2923-ARZLG</td>\n",
       "      <td>Male</td>\n",
       "      <td>No</td>\n",
       "      <td>Yes</td>\n",
       "      <td>Yes</td>\n",
       "      <td>0</td>\n",
       "      <td>Yes</td>\n",
       "      <td>No</td>\n",
       "      <td>No</td>\n",
       "      <td>No internet service</td>\n",
       "      <td>...</td>\n",
       "      <td>No internet service</td>\n",
       "      <td>No internet service</td>\n",
       "      <td>No internet service</td>\n",
       "      <td>No internet service</td>\n",
       "      <td>One year</td>\n",
       "      <td>Yes</td>\n",
       "      <td>Mailed check</td>\n",
       "      <td>19.70</td>\n",
       "      <td>NaN</td>\n",
       "      <td>No</td>\n",
       "    </tr>\n",
       "    <tr>\n",
       "      <th>6670</th>\n",
       "      <td>4075-WKNIU</td>\n",
       "      <td>Female</td>\n",
       "      <td>No</td>\n",
       "      <td>Yes</td>\n",
       "      <td>Yes</td>\n",
       "      <td>0</td>\n",
       "      <td>Yes</td>\n",
       "      <td>Yes</td>\n",
       "      <td>DSL</td>\n",
       "      <td>No</td>\n",
       "      <td>...</td>\n",
       "      <td>Yes</td>\n",
       "      <td>Yes</td>\n",
       "      <td>Yes</td>\n",
       "      <td>No</td>\n",
       "      <td>Two year</td>\n",
       "      <td>No</td>\n",
       "      <td>Mailed check</td>\n",
       "      <td>73.35</td>\n",
       "      <td>NaN</td>\n",
       "      <td>No</td>\n",
       "    </tr>\n",
       "    <tr>\n",
       "      <th>6754</th>\n",
       "      <td>2775-SEFEE</td>\n",
       "      <td>Male</td>\n",
       "      <td>No</td>\n",
       "      <td>No</td>\n",
       "      <td>Yes</td>\n",
       "      <td>0</td>\n",
       "      <td>Yes</td>\n",
       "      <td>Yes</td>\n",
       "      <td>DSL</td>\n",
       "      <td>Yes</td>\n",
       "      <td>...</td>\n",
       "      <td>No</td>\n",
       "      <td>Yes</td>\n",
       "      <td>No</td>\n",
       "      <td>No</td>\n",
       "      <td>Two year</td>\n",
       "      <td>Yes</td>\n",
       "      <td>Bank transfer (automatic)</td>\n",
       "      <td>61.90</td>\n",
       "      <td>NaN</td>\n",
       "      <td>No</td>\n",
       "    </tr>\n",
       "  </tbody>\n",
       "</table>\n",
       "<p>11 rows × 21 columns</p>\n",
       "</div>"
      ],
      "text/plain": [
       "      customerID  gender SeniorCitizen Partner Dependents  tenure  \\\n",
       "488   4472-LVYGI  Female            No     Yes        Yes       0   \n",
       "753   3115-CZMZD    Male            No      No        Yes       0   \n",
       "936   5709-LVOEQ  Female            No     Yes        Yes       0   \n",
       "1082  4367-NUYAO    Male            No     Yes        Yes       0   \n",
       "1340  1371-DWPAZ  Female            No     Yes        Yes       0   \n",
       "3331  7644-OMVMY    Male            No     Yes        Yes       0   \n",
       "3826  3213-VVOLG    Male            No     Yes        Yes       0   \n",
       "4380  2520-SGTTA  Female            No     Yes        Yes       0   \n",
       "5218  2923-ARZLG    Male            No     Yes        Yes       0   \n",
       "6670  4075-WKNIU  Female            No     Yes        Yes       0   \n",
       "6754  2775-SEFEE    Male            No      No        Yes       0   \n",
       "\n",
       "     PhoneService     MultipleLines InternetService       OnlineSecurity  ...  \\\n",
       "488            No  No phone service             DSL                  Yes  ...   \n",
       "753           Yes                No              No  No internet service  ...   \n",
       "936           Yes                No             DSL                  Yes  ...   \n",
       "1082          Yes               Yes              No  No internet service  ...   \n",
       "1340           No  No phone service             DSL                  Yes  ...   \n",
       "3331          Yes                No              No  No internet service  ...   \n",
       "3826          Yes               Yes              No  No internet service  ...   \n",
       "4380          Yes                No              No  No internet service  ...   \n",
       "5218          Yes                No              No  No internet service  ...   \n",
       "6670          Yes               Yes             DSL                   No  ...   \n",
       "6754          Yes               Yes             DSL                  Yes  ...   \n",
       "\n",
       "         DeviceProtection          TechSupport          StreamingTV  \\\n",
       "488                   Yes                  Yes                  Yes   \n",
       "753   No internet service  No internet service  No internet service   \n",
       "936                   Yes                   No                  Yes   \n",
       "1082  No internet service  No internet service  No internet service   \n",
       "1340                  Yes                  Yes                  Yes   \n",
       "3331  No internet service  No internet service  No internet service   \n",
       "3826  No internet service  No internet service  No internet service   \n",
       "4380  No internet service  No internet service  No internet service   \n",
       "5218  No internet service  No internet service  No internet service   \n",
       "6670                  Yes                  Yes                  Yes   \n",
       "6754                   No                  Yes                   No   \n",
       "\n",
       "          StreamingMovies  Contract PaperlessBilling  \\\n",
       "488                    No  Two year              Yes   \n",
       "753   No internet service  Two year               No   \n",
       "936                   Yes  Two year               No   \n",
       "1082  No internet service  Two year               No   \n",
       "1340                   No  Two year               No   \n",
       "3331  No internet service  Two year               No   \n",
       "3826  No internet service  Two year               No   \n",
       "4380  No internet service  Two year               No   \n",
       "5218  No internet service  One year              Yes   \n",
       "6670                   No  Two year               No   \n",
       "6754                   No  Two year              Yes   \n",
       "\n",
       "                  PaymentMethod MonthlyCharges  TotalCharges  Churn  \n",
       "488   Bank transfer (automatic)          52.55           NaN     No  \n",
       "753                Mailed check          20.25           NaN     No  \n",
       "936                Mailed check          80.85           NaN     No  \n",
       "1082               Mailed check          25.75           NaN     No  \n",
       "1340    Credit card (automatic)          56.05           NaN     No  \n",
       "3331               Mailed check          19.85           NaN     No  \n",
       "3826               Mailed check          25.35           NaN     No  \n",
       "4380               Mailed check          20.00           NaN     No  \n",
       "5218               Mailed check          19.70           NaN     No  \n",
       "6670               Mailed check          73.35           NaN     No  \n",
       "6754  Bank transfer (automatic)          61.90           NaN     No  \n",
       "\n",
       "[11 rows x 21 columns]"
      ]
     },
     "execution_count": 25,
     "metadata": {},
     "output_type": "execute_result"
    }
   ],
   "source": [
    "df[np.isnan(df[\"TotalCharges\"])]"
   ]
  },
  {
   "cell_type": "markdown",
   "id": "ffdc049c",
   "metadata": {},
   "source": [
    "What we can also observe from these observations is that they all have 0 tenure, and haven't churned. This could suggest that these are new customers, who potentially haven't added all of their information. Given the small number of these cases, we decide to remove these observations from the data completely."
   ]
  },
  {
   "cell_type": "code",
   "execution_count": 26,
   "id": "65035f1c",
   "metadata": {},
   "outputs": [
    {
     "data": {
      "application/vnd.microsoft.datawrangler.viewer.v0+json": {
       "columns": [
        {
         "name": "index",
         "rawType": "int64",
         "type": "integer"
        },
        {
         "name": "customerID",
         "rawType": "object",
         "type": "string"
        },
        {
         "name": "gender",
         "rawType": "object",
         "type": "string"
        },
        {
         "name": "SeniorCitizen",
         "rawType": "object",
         "type": "string"
        },
        {
         "name": "Partner",
         "rawType": "object",
         "type": "string"
        },
        {
         "name": "Dependents",
         "rawType": "object",
         "type": "string"
        },
        {
         "name": "tenure",
         "rawType": "int64",
         "type": "integer"
        },
        {
         "name": "PhoneService",
         "rawType": "object",
         "type": "string"
        },
        {
         "name": "MultipleLines",
         "rawType": "object",
         "type": "string"
        },
        {
         "name": "InternetService",
         "rawType": "object",
         "type": "string"
        },
        {
         "name": "OnlineSecurity",
         "rawType": "object",
         "type": "string"
        },
        {
         "name": "OnlineBackup",
         "rawType": "object",
         "type": "string"
        },
        {
         "name": "DeviceProtection",
         "rawType": "object",
         "type": "string"
        },
        {
         "name": "TechSupport",
         "rawType": "object",
         "type": "string"
        },
        {
         "name": "StreamingTV",
         "rawType": "object",
         "type": "string"
        },
        {
         "name": "StreamingMovies",
         "rawType": "object",
         "type": "string"
        },
        {
         "name": "Contract",
         "rawType": "object",
         "type": "string"
        },
        {
         "name": "PaperlessBilling",
         "rawType": "object",
         "type": "string"
        },
        {
         "name": "PaymentMethod",
         "rawType": "object",
         "type": "string"
        },
        {
         "name": "MonthlyCharges",
         "rawType": "float64",
         "type": "float"
        },
        {
         "name": "TotalCharges",
         "rawType": "float64",
         "type": "float"
        },
        {
         "name": "Churn",
         "rawType": "object",
         "type": "string"
        }
       ],
       "ref": "cb87f891-5290-4b9c-8a1b-934f70d50046",
       "rows": [],
       "shape": {
        "columns": 21,
        "rows": 0
       }
      },
      "text/html": [
       "<div>\n",
       "<style scoped>\n",
       "    .dataframe tbody tr th:only-of-type {\n",
       "        vertical-align: middle;\n",
       "    }\n",
       "\n",
       "    .dataframe tbody tr th {\n",
       "        vertical-align: top;\n",
       "    }\n",
       "\n",
       "    .dataframe thead th {\n",
       "        text-align: right;\n",
       "    }\n",
       "</style>\n",
       "<table border=\"1\" class=\"dataframe\">\n",
       "  <thead>\n",
       "    <tr style=\"text-align: right;\">\n",
       "      <th></th>\n",
       "      <th>customerID</th>\n",
       "      <th>gender</th>\n",
       "      <th>SeniorCitizen</th>\n",
       "      <th>Partner</th>\n",
       "      <th>Dependents</th>\n",
       "      <th>tenure</th>\n",
       "      <th>PhoneService</th>\n",
       "      <th>MultipleLines</th>\n",
       "      <th>InternetService</th>\n",
       "      <th>OnlineSecurity</th>\n",
       "      <th>...</th>\n",
       "      <th>DeviceProtection</th>\n",
       "      <th>TechSupport</th>\n",
       "      <th>StreamingTV</th>\n",
       "      <th>StreamingMovies</th>\n",
       "      <th>Contract</th>\n",
       "      <th>PaperlessBilling</th>\n",
       "      <th>PaymentMethod</th>\n",
       "      <th>MonthlyCharges</th>\n",
       "      <th>TotalCharges</th>\n",
       "      <th>Churn</th>\n",
       "    </tr>\n",
       "  </thead>\n",
       "  <tbody>\n",
       "  </tbody>\n",
       "</table>\n",
       "<p>0 rows × 21 columns</p>\n",
       "</div>"
      ],
      "text/plain": [
       "Empty DataFrame\n",
       "Columns: [customerID, gender, SeniorCitizen, Partner, Dependents, tenure, PhoneService, MultipleLines, InternetService, OnlineSecurity, OnlineBackup, DeviceProtection, TechSupport, StreamingTV, StreamingMovies, Contract, PaperlessBilling, PaymentMethod, MonthlyCharges, TotalCharges, Churn]\n",
       "Index: []\n",
       "\n",
       "[0 rows x 21 columns]"
      ]
     },
     "execution_count": 26,
     "metadata": {},
     "output_type": "execute_result"
    }
   ],
   "source": [
    "df.dropna(inplace = True)\n",
    "df[np.isnan(df[\"TotalCharges\"])]"
   ]
  },
  {
   "cell_type": "markdown",
   "id": "77650919",
   "metadata": {},
   "source": [
    "We also check for any duplicated values in the data before we proceed."
   ]
  },
  {
   "cell_type": "code",
   "execution_count": 27,
   "id": "97d43639",
   "metadata": {},
   "outputs": [
    {
     "data": {
      "text/plain": [
       "0"
      ]
     },
     "execution_count": 27,
     "metadata": {},
     "output_type": "execute_result"
    }
   ],
   "source": [
    "df.duplicated().sum()"
   ]
  },
  {
   "cell_type": "markdown",
   "id": "8093ceed",
   "metadata": {},
   "source": [
    "Finally, we split the data into independent (X) and dependent (y) variables. We also remove the customerID variable, since it's merely an identifier, and we don't want it to influence our results."
   ]
  },
  {
   "cell_type": "code",
   "execution_count": 28,
   "id": "e4f206f5",
   "metadata": {},
   "outputs": [],
   "source": [
    "df.drop(\"customerID\", axis = 1, inplace = True)"
   ]
  },
  {
   "cell_type": "markdown",
   "id": "ac35017d",
   "metadata": {},
   "source": [
    "## EDA"
   ]
  },
  {
   "cell_type": "code",
   "execution_count": 29,
   "id": "74683d0f",
   "metadata": {},
   "outputs": [],
   "source": [
    "#Splitting the df into train and test sets\n",
    "train, test = train_test_split(df, test_size = 0.2, random_state = 42, stratify = df[\"Churn\"])\n",
    "\n",
    "#Splitting the training set into training and validation sets\n",
    "train, val = train_test_split(train, test_size = 0.2, random_state = 42, stratify = train[\"Churn\"])"
   ]
  },
  {
   "cell_type": "code",
   "execution_count": 30,
   "id": "d1e1482d",
   "metadata": {},
   "outputs": [
    {
     "data": {
      "text/plain": [
       "<Axes: xlabel='Churn', ylabel='percent'>"
      ]
     },
     "execution_count": 30,
     "metadata": {},
     "output_type": "execute_result"
    },
    {
     "data": {
      "image/png": "[encoded data removed]",
      "text/plain": [
       "<Figure size 640x480 with 1 Axes>"
      ]
     },
     "metadata": {},
     "output_type": "display_data"
    }
   ],
   "source": [
    "sns.countplot(x = \"Churn\", hue = \"Churn\", stat = \"percent\", data = train)"
   ]
  },
  {
   "cell_type": "code",
   "execution_count": 31,
   "id": "dc09115a",
   "metadata": {},
   "outputs": [
    {
     "data": {
      "text/plain": [
       "<Axes: xlabel='PaymentMethod', ylabel='percent'>"
      ]
     },
     "execution_count": 31,
     "metadata": {},
     "output_type": "execute_result"
    },
    {
     "data": {
      "image/png": "[encoded data removed]",
      "text/plain": [
       "<Figure size 2000x2000 with 16 Axes>"
      ]
     },
     "metadata": {},
     "output_type": "display_data"
    }
   ],
   "source": [
    "#Plotting countplots for categorical variables, grouped by Churn\n",
    "fig, axes = plt.subplots(4, 4, figsize = (20, 20))\n",
    "sns.countplot(x = \"gender\", stat = \"percent\", hue = \"Churn\", data = train, ax = axes[0, 0])\n",
    "sns.countplot(x = \"SeniorCitizen\", stat = \"percent\", hue = \"Churn\", data = train, ax = axes[0, 1])\n",
    "sns.countplot(x = \"Partner\", stat = \"percent\", hue = \"Churn\", data = train, ax = axes[0, 2])\n",
    "sns.countplot(x = \"Dependents\", stat = \"percent\", hue = \"Churn\", data = train, ax = axes[0, 3])\n",
    "sns.countplot(x = \"PhoneService\", stat = \"percent\", hue = \"Churn\", data = train, ax = axes[1, 0])\n",
    "sns.countplot(x = \"MultipleLines\", stat = \"percent\", hue = \"Churn\", data = train, ax = axes[1, 1])\n",
    "sns.countplot(x = \"InternetService\", stat = \"percent\", hue = \"Churn\", data = train, ax = axes[1, 2])\n",
    "sns.countplot(x = \"OnlineSecurity\", stat = \"percent\", hue = \"Churn\", data = train, ax = axes[1, 3])\n",
    "sns.countplot(x = \"OnlineBackup\", stat = \"percent\", hue = \"Churn\", data = train, ax = axes[2, 0])\n",
    "sns.countplot(x = \"DeviceProtection\", stat = \"percent\", hue = \"Churn\", data = train, ax = axes[2, 1])\n",
    "sns.countplot(x = \"TechSupport\", stat = \"percent\", hue = \"Churn\", data = train, ax = axes[2, 2])\n",
    "sns.countplot(x = \"StreamingTV\", stat = \"percent\", hue = \"Churn\", data = train, ax = axes[2, 3])\n",
    "sns.countplot(x = \"StreamingMovies\", stat = \"percent\", hue = \"Churn\", data = train, ax = axes[3, 0])\n",
    "sns.countplot(x = \"Contract\", stat = \"percent\", hue = \"Churn\", data = train, ax = axes[3, 1])\n",
    "sns.countplot(x = \"PaperlessBilling\", stat = \"percent\", hue = \"Churn\", data = train, ax = axes[3, 2])\n",
    "sns.countplot(x = \"PaymentMethod\", stat = \"percent\", hue = \"Churn\", data = train, ax = axes[3, 3])\n",
    "        "
   ]
  },
  {
   "cell_type": "code",
   "execution_count": 32,
   "id": "13fc2b39",
   "metadata": {},
   "outputs": [
    {
     "data": {
      "image/png": "[encoded data removed]",
      "text/plain": [
       "<Figure size 1500x500 with 3 Axes>"
      ]
     },
     "metadata": {},
     "output_type": "display_data"
    }
   ],
   "source": [
    "#Plotting violin plots for numerical variables by Churn\n",
    "fig, axes = plt.subplots(ncols = 3, nrows = 1, figsize = (15, 5))\n",
    "sns.violinplot(x = \"Churn\", y = \"tenure\", hue = \"Churn\", data = df, ax = axes[0])\n",
    "sns.violinplot(x = \"Churn\", y = \"MonthlyCharges\", hue = \"Churn\", data = df, ax = axes[1])\n",
    "sns.violinplot(x = \"Churn\", y = \"TotalCharges\", hue = \"Churn\", data = df, ax = axes[2])\n",
    "plt.tight_layout()"
   ]
  },
  {
   "cell_type": "markdown",
   "id": "d372c00e",
   "metadata": {},
   "source": [
    "## Feature Engineering"
   ]
  },
  {
   "cell_type": "code",
   "execution_count": 33,
   "id": "08393cd0",
   "metadata": {},
   "outputs": [],
   "source": [
    "X_train = train.drop(\"Churn\", axis = 1)\n",
    "y_train = train[\"Churn\"]\n",
    "\n",
    "X_val = val.drop(\"Churn\", axis = 1)\n",
    "y_val = val[\"Churn\"]    "
   ]
  },
  {
   "cell_type": "code",
   "execution_count": 34,
   "id": "a9a850e0",
   "metadata": {},
   "outputs": [],
   "source": [
    "cat_cols = X_train.select_dtypes(include = [\"object\"]).columns.tolist()\n",
    "num_cols = X_train.select_dtypes(exclude = [\"object\"]).columns.tolist()"
   ]
  },
  {
   "cell_type": "markdown",
   "id": "5669910e",
   "metadata": {},
   "source": [
    "## Building Models"
   ]
  },
  {
   "cell_type": "markdown",
   "id": "a4ba6d0b",
   "metadata": {},
   "source": [
    "#### Preprocessors and Resamplers"
   ]
  },
  {
   "cell_type": "code",
   "execution_count": 35,
   "id": "ad1edddd",
   "metadata": {},
   "outputs": [],
   "source": [
    "#One Hot Encoding categorical variables\n",
    "cat = ImPipeline(steps = [\n",
    "    (\"encoder\", OneHotEncoder(sparse_output = False, handle_unknown = \"ignore\"))\n",
    "])\n",
    "\n",
    "#MinMax scaling numerical variables\n",
    "num = ImPipeline(steps = [\n",
    "    (\"scaler\", MinMaxScaler())\n",
    "])\n",
    "\n",
    "#Combining categorical and numerical preprocessing pipelines\n",
    "preprocessor = ColumnTransformer(transformers = [\n",
    "    (\"cat\", cat, cat_cols),\n",
    "    (\"num\", num, num_cols)\n",
    "])"
   ]
  },
  {
   "cell_type": "code",
   "execution_count": 36,
   "id": "fc3a9b6e",
   "metadata": {},
   "outputs": [],
   "source": [
    "resampler = SMOTETomek(tomek = TomekLinks(sampling_strategy = \"majority\"), random_state=42)"
   ]
  },
  {
   "cell_type": "code",
   "execution_count": 37,
   "id": "50a3f8b9",
   "metadata": {},
   "outputs": [],
   "source": [
    "le = LabelEncoder()\n",
    "y_train = le.fit_transform(y_train)\n",
    "y_val = le.transform(y_val)"
   ]
  },
  {
   "cell_type": "code",
   "execution_count": 38,
   "id": "bf3787a2",
   "metadata": {},
   "outputs": [
    {
     "name": "stdout",
     "output_type": "stream",
     "text": [
      "[LightGBM] [Info] Number of positive: 3304, number of negative: 3133\n",
      "[LightGBM] [Info] Auto-choosing col-wise multi-threading, the overhead of testing was 0.001198 seconds.\n",
      "You can set `force_col_wise=true` to remove the overhead.\n",
      "[LightGBM] [Info] Total Bins 2806\n",
      "[LightGBM] [Info] Number of data points in the train set: 6437, number of used features: 46\n",
      "[LightGBM] [Info] [binary:BoostFromScore]: pavg=0.513283 -> initscore=0.053143\n",
      "[LightGBM] [Info] Start training from score 0.053143\n"
     ]
    },
    {
     "data": {
      "application/vnd.microsoft.datawrangler.viewer.v0+json": {
       "columns": [
        {
         "name": "index",
         "rawType": "int64",
         "type": "integer"
        },
        {
         "name": "Model",
         "rawType": "object",
         "type": "string"
        },
        {
         "name": "F1 Score",
         "rawType": "float64",
         "type": "float"
        },
        {
         "name": "Balanced Accuracy",
         "rawType": "float64",
         "type": "float"
        },
        {
         "name": "Precision",
         "rawType": "float64",
         "type": "float"
        },
        {
         "name": "Recall",
         "rawType": "float64",
         "type": "float"
        },
        {
         "name": "ROC AUC",
         "rawType": "float64",
         "type": "float"
        }
       ],
       "ref": "5ff15716-fbb7-4e53-94f1-33b7fb8ce970",
       "rows": [
        [
         "3",
         "Gradient Boost",
         "0.7835666214060795",
         "0.750973786714391",
         "0.5652173913043478",
         "0.6956521739130435",
         "0.750973786714391"
        ],
        [
         "4",
         "XGBoost",
         "0.7798005408164527",
         "0.7249062654368477",
         "0.5772870662460567",
         "0.6120401337792643",
         "0.7249062654368477"
        ],
        [
         "5",
         "LightGBM",
         "0.776388386405155",
         "0.7177557151764964",
         "0.5741935483870968",
         "0.5953177257525084",
         "0.7177557151764963"
        ],
        [
         "2",
         "Random Forest",
         "0.7717628369922843",
         "0.7141237539174164",
         "0.5632911392405063",
         "0.5953177257525084",
         "0.7141237539174164"
        ],
        [
         "0",
         "Logistic",
         "0.7602620835123381",
         "0.756603934017346",
         "0.5167037861915368",
         "0.7759197324414716",
         "0.7566039340173459"
        ],
        [
         "1",
         "K-NN",
         "0.700065760366596",
         "0.7075420894507114",
         "0.44271844660194176",
         "0.7625418060200669",
         "0.7075420894507115"
        ]
       ],
       "shape": {
        "columns": 6,
        "rows": 6
       }
      },
      "text/html": [
       "<div>\n",
       "<style scoped>\n",
       "    .dataframe tbody tr th:only-of-type {\n",
       "        vertical-align: middle;\n",
       "    }\n",
       "\n",
       "    .dataframe tbody tr th {\n",
       "        vertical-align: top;\n",
       "    }\n",
       "\n",
       "    .dataframe thead th {\n",
       "        text-align: right;\n",
       "    }\n",
       "</style>\n",
       "<table border=\"1\" class=\"dataframe\">\n",
       "  <thead>\n",
       "    <tr style=\"text-align: right;\">\n",
       "      <th></th>\n",
       "      <th>Model</th>\n",
       "      <th>F1 Score</th>\n",
       "      <th>Balanced Accuracy</th>\n",
       "      <th>Precision</th>\n",
       "      <th>Recall</th>\n",
       "      <th>ROC AUC</th>\n",
       "    </tr>\n",
       "  </thead>\n",
       "  <tbody>\n",
       "    <tr>\n",
       "      <th>3</th>\n",
       "      <td>Gradient Boost</td>\n",
       "      <td>0.783567</td>\n",
       "      <td>0.750974</td>\n",
       "      <td>0.565217</td>\n",
       "      <td>0.695652</td>\n",
       "      <td>0.750974</td>\n",
       "    </tr>\n",
       "    <tr>\n",
       "      <th>4</th>\n",
       "      <td>XGBoost</td>\n",
       "      <td>0.779801</td>\n",
       "      <td>0.724906</td>\n",
       "      <td>0.577287</td>\n",
       "      <td>0.612040</td>\n",
       "      <td>0.724906</td>\n",
       "    </tr>\n",
       "    <tr>\n",
       "      <th>5</th>\n",
       "      <td>LightGBM</td>\n",
       "      <td>0.776388</td>\n",
       "      <td>0.717756</td>\n",
       "      <td>0.574194</td>\n",
       "      <td>0.595318</td>\n",
       "      <td>0.717756</td>\n",
       "    </tr>\n",
       "    <tr>\n",
       "      <th>2</th>\n",
       "      <td>Random Forest</td>\n",
       "      <td>0.771763</td>\n",
       "      <td>0.714124</td>\n",
       "      <td>0.563291</td>\n",
       "      <td>0.595318</td>\n",
       "      <td>0.714124</td>\n",
       "    </tr>\n",
       "    <tr>\n",
       "      <th>0</th>\n",
       "      <td>Logistic</td>\n",
       "      <td>0.760262</td>\n",
       "      <td>0.756604</td>\n",
       "      <td>0.516704</td>\n",
       "      <td>0.775920</td>\n",
       "      <td>0.756604</td>\n",
       "    </tr>\n",
       "    <tr>\n",
       "      <th>1</th>\n",
       "      <td>K-NN</td>\n",
       "      <td>0.700066</td>\n",
       "      <td>0.707542</td>\n",
       "      <td>0.442718</td>\n",
       "      <td>0.762542</td>\n",
       "      <td>0.707542</td>\n",
       "    </tr>\n",
       "  </tbody>\n",
       "</table>\n",
       "</div>"
      ],
      "text/plain": [
       "            Model  F1 Score  Balanced Accuracy  Precision    Recall   ROC AUC\n",
       "3  Gradient Boost  0.783567           0.750974   0.565217  0.695652  0.750974\n",
       "4         XGBoost  0.779801           0.724906   0.577287  0.612040  0.724906\n",
       "5        LightGBM  0.776388           0.717756   0.574194  0.595318  0.717756\n",
       "2   Random Forest  0.771763           0.714124   0.563291  0.595318  0.714124\n",
       "0        Logistic  0.760262           0.756604   0.516704  0.775920  0.756604\n",
       "1            K-NN  0.700066           0.707542   0.442718  0.762542  0.707542"
      ]
     },
     "execution_count": 38,
     "metadata": {},
     "output_type": "execute_result"
    }
   ],
   "source": [
    "model_names = [\"Logistic\", \"K-NN\", \"Random Forest\", \"Gradient Boost\", \"XGBoost\", \"LightGBM\"]\n",
    "models = [LogisticRegression(random_state = 42), KNeighborsClassifier(), RandomForestClassifier(random_state = 42), GradientBoostingClassifier(random_state = 42),XGBClassifier(random_state = 42),  LGBMClassifier(is_unbalance = True, random_state = 42)]\n",
    "\n",
    "f1 = []\n",
    "balanced_accuracy = []\n",
    "precision = []\n",
    "recall = []\n",
    "roc_auc = []\n",
    "\n",
    "for i, name in enumerate(model_names):\n",
    "    \n",
    "    classifier = models[i]\n",
    "    \n",
    "    model = ImPipeline(steps = [\n",
    "        (\"preprocessor\", preprocessor),\n",
    "        (\"resampler\", resampler),\n",
    "        (\"classifier\", classifier)\n",
    "    ])\n",
    "    \n",
    "    model.fit(X_train, y_train)\n",
    "    \n",
    "    balanced_accuracy.append(balanced_accuracy_score(y_val, model.predict(X_val)))\n",
    "    precision.append(precision_score(y_val, model.predict(X_val)))\n",
    "    recall.append(recall_score(y_val, model.predict(X_val)))\n",
    "    roc_auc.append(roc_auc_score(y_val, model.predict(X_val)))\n",
    "    f1.append(f1_score(y_val, model.predict(X_val), average = \"weighted\"))\n",
    "\n",
    "model_scores = pd.DataFrame(list(zip(model_names, f1, balanced_accuracy, precision, recall, roc_auc)), columns = [\"Model\", \"F1 Score\", \"Balanced Accuracy\", \"Precision\", \"Recall\", \"ROC AUC\"])\n",
    "model_scores.sort_values(\"F1 Score\", ascending = False)  "
   ]
  },
  {
   "cell_type": "markdown",
   "id": "085707c0",
   "metadata": {},
   "source": [
    "## Model Tuning"
   ]
  },
  {
   "cell_type": "code",
   "execution_count": 41,
   "id": "3da48750",
   "metadata": {},
   "outputs": [],
   "source": [
    "def optimise_objective(trial):\n",
    "    \n",
    "    algorithm = trial.suggest_categorical(\"classifier\", [\"gbtree\", \"XGB\", \"LGBM\"]) \n",
    "    \n",
    "    if algorithm == \"gbtree\":\n",
    "        gb_depth = trial.suggest_int(\"gb_max_depth\", 2, 10)\n",
    "        gb_eta = trial.suggest_float(\"gb_eta\", 0.01, 0.99)\n",
    "        gb_loss = trial.suggest_categorical(\"gb_loss\", [\"log_loss\", \"exponential\"])\n",
    "        gb_n_estimators = trial.suggest_int(\"gb_n_estimators\", 10, 1000)\n",
    "        \n",
    "        model = GradientBoostingClassifier(max_depth = gb_depth, learning_rate=gb_eta, loss = gb_loss, n_estimators = gb_n_estimators, random_state = 42)\n",
    "    \n",
    "    elif algorithm == \"XGB\":\n",
    "        xgb_depth = trial.suggest_int(\"xgb_max_depth\", 2, 10)\n",
    "        xgb_eta = trial.suggest_float(\"xgb_eta\", 0.01, 0.99)\n",
    "        xgb_booster = trial.suggest_categorical(\"xgb_booster\", [\"gbtree\", \"dart\"])\n",
    "        xgb_n_estimators = trial.suggest_int(\"xgb_n_estimators\", 10, 1000)\n",
    "        \n",
    "        model = XGBClassifier(max_depth = xgb_depth, learning_rate = xgb_eta, booster = xgb_booster, n_estimators = xgb_n_estimators, random_state = 42)\n",
    "    \n",
    "    else:\n",
    "        lgbm_learning_rate = trial.suggest_float(\"lgbm_learning_rate\", 0.01, 0.99)\n",
    "        lgbm_boosting = trial.suggest_categorical(\"lgbm_boosting\", [\"gbdt\", \"dart\"])\n",
    "        lgbm_n_estimators = trial.suggest_int(\"lgbm_n_estimators\", 10, 1000)\n",
    "        lgbm_num_leaves = trial.suggest_int(\"lgbm_num_leaves\", 10, 50)\n",
    "        \n",
    "        model = LGBMClassifier(learning_rate = lgbm_learning_rate, boosting_type = lgbm_boosting, n_estimators= lgbm_n_estimators, num_leaves = lgbm_num_leaves, verbosity = -1,is_unbalance = True, random_state = 42)\n",
    "        \n",
    "    pipeline = ImPipeline(steps = [\n",
    "        (\"preprocessor\", preprocessor),\n",
    "        (\"resampler\", resampler),\n",
    "        (\"model\", model)\n",
    "    ])\n",
    "    \n",
    "    pipeline.fit(X_train, y_train)\n",
    "    y_pred = pipeline.predict(X_val)\n",
    "    score = f1_score(y_val, y_pred, average=\"weighted\")\n",
    "    \n",
    "    return score"
   ]
  },
  {
   "cell_type": "code",
   "execution_count": 42,
   "id": "a94b7553",
   "metadata": {},
   "outputs": [
    {
     "name": "stderr",
     "output_type": "stream",
     "text": [
      "[I 2025-06-22 14:28:52,787] A new study created in memory with name: no-name-56928a32-32f6-4bb8-8a88-6c852201c965\n"
     ]
    },
    {
     "name": "stderr",
     "output_type": "stream",
     "text": [
      "[I 2025-06-22 14:28:55,000] Trial 0 finished with value: 0.7579710675523414 and parameters: {'classifier': 'XGB', 'xgb_max_depth': 7, 'xgb_eta': 0.1628982676335878, 'xgb_booster': 'gbtree', 'xgb_n_estimators': 868}. Best is trial 0 with value: 0.7579710675523414.\n",
      "[I 2025-06-22 14:28:55,870] Trial 1 finished with value: 0.7498731753069521 and parameters: {'classifier': 'XGB', 'xgb_max_depth': 10, 'xgb_eta': 0.8257937879844133, 'xgb_booster': 'gbtree', 'xgb_n_estimators': 191}. Best is trial 0 with value: 0.7579710675523414.\n",
      "[I 2025-06-22 14:29:18,178] Trial 2 finished with value: 0.7544154249411347 and parameters: {'classifier': 'XGB', 'xgb_max_depth': 4, 'xgb_eta': 0.6096158368279319, 'xgb_booster': 'dart', 'xgb_n_estimators': 373}. Best is trial 0 with value: 0.7579710675523414.\n",
      "[I 2025-06-22 14:29:23,951] Trial 3 finished with value: 0.7616464847466533 and parameters: {'classifier': 'XGB', 'xgb_max_depth': 6, 'xgb_eta': 0.5905662774848016, 'xgb_booster': 'dart', 'xgb_n_estimators': 178}. Best is trial 3 with value: 0.7616464847466533.\n",
      "[I 2025-06-22 14:29:24,676] Trial 4 finished with value: 0.7535945544891429 and parameters: {'classifier': 'LGBM', 'lgbm_learning_rate': 0.8022294011541319, 'lgbm_boosting': 'gbdt', 'lgbm_n_estimators': 688, 'lgbm_num_leaves': 28}. Best is trial 3 with value: 0.7616464847466533.\n",
      "[I 2025-06-22 14:29:26,727] Trial 5 finished with value: 0.7503696893336518 and parameters: {'classifier': 'XGB', 'xgb_max_depth': 10, 'xgb_eta': 0.2636043819680166, 'xgb_booster': 'gbtree', 'xgb_n_estimators': 525}. Best is trial 3 with value: 0.7616464847466533.\n",
      "[I 2025-06-22 14:29:27,518] Trial 6 finished with value: 0.7540736354790305 and parameters: {'classifier': 'LGBM', 'lgbm_learning_rate': 0.7696301668938923, 'lgbm_boosting': 'gbdt', 'lgbm_n_estimators': 602, 'lgbm_num_leaves': 47}. Best is trial 3 with value: 0.7616464847466533.\n",
      "[I 2025-06-22 14:29:48,577] Trial 7 finished with value: 0.766700965113885 and parameters: {'classifier': 'XGB', 'xgb_max_depth': 4, 'xgb_eta': 0.3909037438956924, 'xgb_booster': 'dart', 'xgb_n_estimators': 363}. Best is trial 7 with value: 0.766700965113885.\n",
      "[I 2025-06-22 14:29:49,602] Trial 8 finished with value: 0.7647130404515055 and parameters: {'classifier': 'XGB', 'xgb_max_depth': 9, 'xgb_eta': 0.0830596308061754, 'xgb_booster': 'gbtree', 'xgb_n_estimators': 206}. Best is trial 7 with value: 0.766700965113885.\n",
      "[I 2025-06-22 14:29:52,914] Trial 9 finished with value: 0.7551762175265926 and parameters: {'classifier': 'XGB', 'xgb_max_depth': 8, 'xgb_eta': 0.7658449397522268, 'xgb_booster': 'dart', 'xgb_n_estimators': 124}. Best is trial 7 with value: 0.766700965113885.\n",
      "[I 2025-06-22 14:29:56,258] Trial 10 finished with value: 0.7640672273504273 and parameters: {'classifier': 'gbtree', 'gb_max_depth': 2, 'gb_eta': 0.7935248591769344, 'gb_loss': 'log_loss', 'gb_n_estimators': 338}. Best is trial 7 with value: 0.766700965113885.\n",
      "[I 2025-06-22 14:30:50,635] Trial 11 finished with value: 0.768123395645276 and parameters: {'classifier': 'gbtree', 'gb_max_depth': 10, 'gb_eta': 0.02932829009203175, 'gb_loss': 'exponential', 'gb_n_estimators': 993}. Best is trial 11 with value: 0.768123395645276.\n",
      "[I 2025-06-22 14:31:44,058] Trial 12 finished with value: 0.7653333333333333 and parameters: {'classifier': 'gbtree', 'gb_max_depth': 10, 'gb_eta': 0.032998838295085486, 'gb_loss': 'exponential', 'gb_n_estimators': 995}. Best is trial 11 with value: 0.768123395645276.\n",
      "[I 2025-06-22 14:32:36,759] Trial 13 finished with value: 0.7709098989898989 and parameters: {'classifier': 'gbtree', 'gb_max_depth': 10, 'gb_eta': 0.0239083856856665, 'gb_loss': 'exponential', 'gb_n_estimators': 950}. Best is trial 13 with value: 0.7709098989898989.\n",
      "[I 2025-06-22 14:33:29,937] Trial 14 finished with value: 0.7625268168557218 and parameters: {'classifier': 'gbtree', 'gb_max_depth': 10, 'gb_eta': 0.02857167274984048, 'gb_loss': 'exponential', 'gb_n_estimators': 991}. Best is trial 13 with value: 0.7709098989898989.\n",
      "[I 2025-06-22 14:33:56,793] Trial 15 finished with value: 0.768123395645276 and parameters: {'classifier': 'gbtree', 'gb_max_depth': 8, 'gb_eta': 0.3244823960297753, 'gb_loss': 'exponential', 'gb_n_estimators': 744}. Best is trial 13 with value: 0.7709098989898989.\n",
      "[I 2025-06-22 14:34:13,945] Trial 16 finished with value: 0.7676021962032348 and parameters: {'classifier': 'gbtree', 'gb_max_depth': 6, 'gb_eta': 0.2676504172433132, 'gb_loss': 'exponential', 'gb_n_estimators': 659}. Best is trial 13 with value: 0.7709098989898989.\n",
      "[I 2025-06-22 14:34:15,168] Trial 17 finished with value: 0.781797463477123 and parameters: {'classifier': 'gbtree', 'gb_max_depth': 7, 'gb_eta': 0.016728477294499357, 'gb_loss': 'exponential', 'gb_n_estimators': 36}. Best is trial 17 with value: 0.781797463477123.\n",
      "[I 2025-06-22 14:34:17,739] Trial 18 finished with value: 0.75537328933731 and parameters: {'classifier': 'gbtree', 'gb_max_depth': 6, 'gb_eta': 0.6484404875916752, 'gb_loss': 'log_loss', 'gb_n_estimators': 94}. Best is trial 17 with value: 0.781797463477123.\n",
      "[I 2025-06-22 14:34:18,304] Trial 19 finished with value: 0.7831329530620628 and parameters: {'classifier': 'gbtree', 'gb_max_depth': 4, 'gb_eta': 0.3014992875253511, 'gb_loss': 'exponential', 'gb_n_estimators': 25}. Best is trial 19 with value: 0.7831329530620628.\n"
     ]
    }
   ],
   "source": [
    "study = optuna.create_study(direction = \"maximize\", sampler = optuna.samplers.TPESampler(seed = 42))\n",
    "study.optimize(optimise_objective, n_trials = 20)"
   ]
  },
  {
   "cell_type": "markdown",
   "id": "60710ea4",
   "metadata": {},
   "source": [
    "The best model is a Gradient Boosting classifier model with max depth 4, learning rate 0.301, 25 estimators, and exponential loss. This gives us a weighted f1-score of 0.783. Now, we train this final, tuned model."
   ]
  },
  {
   "cell_type": "code",
   "execution_count": 43,
   "id": "017a2f41",
   "metadata": {},
   "outputs": [
    {
     "name": "stdout",
     "output_type": "stream",
     "text": [
      "Final (GB) Model\n",
      "F1 Score: 0.7831329530620628\n",
      "Accuracy: 0.7393814733534705\n",
      "              precision    recall  f1-score   support\n",
      "\n",
      "           0       0.87      0.82      0.85       826\n",
      "           1       0.57      0.66      0.61       299\n",
      "\n",
      "    accuracy                           0.78      1125\n",
      "   macro avg       0.72      0.74      0.73      1125\n",
      "weighted avg       0.79      0.78      0.78      1125\n",
      "\n"
     ]
    }
   ],
   "source": [
    "final_model = ImPipeline(steps = [\n",
    "    (\"preprocessor\", preprocessor),\n",
    "    (\"resampler\", resampler),\n",
    "    (\"classifier\", GradientBoostingClassifier(max_depth = 4, loss = \"exponential\", learning_rate = 0.3014992875253511, n_estimators = 25, random_state = 42))\n",
    "])\n",
    "\n",
    "final_model.fit(X_train, y_train)\n",
    "y_pred = final_model.predict(X_val)\n",
    "print(\"Final (GB) Model\")\n",
    "print(\"F1 Score:\", f1_score(y_val, y_pred, average=\"weighted\"))\n",
    "print(\"Accuracy:\", balanced_accuracy_score(y_val, y_pred))\n",
    "print(classification_report(y_val, y_pred))"
   ]
  },
  {
   "cell_type": "markdown",
   "id": "6a1bafbe",
   "metadata": {},
   "source": [
    "## Testing"
   ]
  },
  {
   "cell_type": "code",
   "execution_count": 44,
   "id": "6e26875d",
   "metadata": {},
   "outputs": [],
   "source": [
    "X_test = test.drop(\"Churn\", axis = 1)\n",
    "y_test = le.fit_transform(test[\"Churn\"])"
   ]
  },
  {
   "cell_type": "code",
   "execution_count": 45,
   "id": "436ecc3b",
   "metadata": {},
   "outputs": [
    {
     "name": "stdout",
     "output_type": "stream",
     "text": [
      "Results:\n",
      "F1 Score: 0.7783034713341429\n",
      "Accuracy: 0.7498434029952736\n",
      "              precision    recall  f1-score   support\n",
      "\n",
      "           0       0.88      0.79      0.84      1033\n",
      "           1       0.55      0.71      0.62       374\n",
      "\n",
      "    accuracy                           0.77      1407\n",
      "   macro avg       0.72      0.75      0.73      1407\n",
      "weighted avg       0.79      0.77      0.78      1407\n",
      "\n"
     ]
    }
   ],
   "source": [
    "print(\"Results:\")\n",
    "print(\"F1 Score:\", f1_score(y_test, final_model.predict(X_test), average = \"weighted\"))\n",
    "print(\"Accuracy:\", balanced_accuracy_score(y_test, final_model.predict(X_test)))\n",
    "print(classification_report(y_test, final_model.predict(X_test)))"
   ]
  },
  {
   "cell_type": "code",
   "execution_count": 46,
   "id": "70eceb0c",
   "metadata": {},
   "outputs": [
    {
     "data": {
      "image/png": "[encoded data removed]",
      "text/plain": [
       "<Figure size 640x480 with 2 Axes>"
      ]
     },
     "metadata": {},
     "output_type": "display_data"
    }
   ],
   "source": [
    "from sklearn.metrics import ConfusionMatrixDisplay\n",
    "\n",
    "ConfusionMatrixDisplay.from_estimator(final_model, X_test, y_test)\n",
    "plt.show()"
   ]
  },
  {
   "cell_type": "code",
   "execution_count": 47,
   "id": "8a550a66",
   "metadata": {},
   "outputs": [],
   "source": [
    "final_model_model = final_model.named_steps[\"classifier\"]\n",
    "final_model_pp = final_model.named_steps[\"preprocessor\"]\n",
    "final_model_rs = final_model.named_steps[\"resampler\"]"
   ]
  },
  {
   "cell_type": "code",
   "execution_count": 48,
   "id": "51d530dd",
   "metadata": {},
   "outputs": [],
   "source": [
    "pp_X = final_model_pp.transform(X_test)\n",
    "pp_y = le.fit_transform(y_test)\n",
    "\n",
    "pp_cols = final_model_pp.get_feature_names_out().tolist()\n",
    "\n",
    "explainer = shap.TreeExplainer(final_model_model)\n",
    "\n",
    "shap_values = explainer.shap_values(pp_X)"
   ]
  },
  {
   "cell_type": "code",
   "execution_count": 49,
   "id": "7fe579be",
   "metadata": {},
   "outputs": [
    {
     "data": {
      "image/png": "[encoded data removed]",
      "text/plain": [
       "<Figure size 1000x500 with 1 Axes>"
      ]
     },
     "metadata": {},
     "output_type": "display_data"
    }
   ],
   "source": [
    "shap.summary_plot(shap_values, pp_X, feature_names = pp_cols, plot_type = \"bar\", max_display = 10, show = False)\n",
    "\n",
    "fig, ax = plt.gcf(), plt.gca()\n",
    "fig.set_size_inches(10, 5)\n",
    "ax.tick_params(labelsize = 10)\n",
    "ax.set_xlabel(\"SHAP value (impact on model output)\")\n",
    "plt.yticks(fontsize = 8)\n",
    "ax.set_title(\"Feature Importance - Customer Churn Predictors\")\n",
    "\n",
    "plt.show()"
   ]
  },
  {
   "cell_type": "code",
   "execution_count": 50,
   "id": "7ef6fec5",
   "metadata": {},
   "outputs": [
    {
     "data": {
      "image/png": "[encoded data removed]",
      "text/plain": [
       "<Figure size 1000x500 with 2 Axes>"
      ]
     },
     "metadata": {},
     "output_type": "display_data"
    }
   ],
   "source": [
    "\n",
    "shap.summary_plot(shap_values, pp_X, feature_names = pp_cols, max_display = 10, show = False)\n",
    "\n",
    "fig, ax = plt.gcf(), plt.gca()\n",
    "fig.set_size_inches(10, 5)\n",
    "ax.tick_params(labelsize = 10)\n",
    "ax.set_xlabel(\"SHAP value (impact on model output)\")\n",
    "plt.yticks(fontsize = 8)\n",
    "ax.set_title(\"Feature Values - Customer Churn Predictors\")\n",
    "\n",
    "plt.show()"
   ]
  }
 ],
 "metadata": {
  "kernelspec": {
   "display_name": "Python 3",
   "language": "python",
   "name": "python3"
  },
  "language_info": {
   "codemirror_mode": {
    "name": "ipython",
    "version": 3
   },
   "file_extension": ".py",
   "mimetype": "text/x-python",
   "name": "python",
   "nbconvert_exporter": "python",
   "pygments_lexer": "ipython3",
   "version": "3.12.10"
  }
 },
 "nbformat": 4,
 "nbformat_minor": 5
}
